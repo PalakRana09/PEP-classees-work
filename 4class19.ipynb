{
 "cells": [
  {
   "cell_type": "code",
   "execution_count": 14,
   "id": "bd0d6f32-a27a-4d44-aa20-084b1afb0f5c",
   "metadata": {},
   "outputs": [
    {
     "name": "stdin",
     "output_type": "stream",
     "text": [
      "Enter first number:  10\n",
      "Enter second number:  15\n"
     ]
    },
    {
     "name": "stdout",
     "output_type": "stream",
     "text": [
      "The LCM of 10 and 15 is 30\n"
     ]
    }
   ],
   "source": [
    "# write a pythin program to find LCM ?\n",
    "\n",
    "num1 = int(input(\"Enter first number: \"))\n",
    "num2 = int(input(\"Enter second number: \"))\n",
    "\n",
    "if num1 > num2:\n",
    "    greater = num1\n",
    "else:\n",
    "    greater = num2\n",
    "\n",
    "while True:\n",
    "    if (greater % num1 == 0) and (greater % num2 == 0):\n",
    "        print(\"The LCM of\", num1, \"and\", num2, \"is\", greater)\n",
    "        break\n",
    "    greater += 1\n"
   ]
  },
  {
   "cell_type": "code",
   "execution_count": 4,
   "id": "89f0b89a-70fa-4321-ac08-38815c83fbe6",
   "metadata": {},
   "outputs": [
    {
     "name": "stdin",
     "output_type": "stream",
     "text": [
      "Enter first number:  6\n",
      "Enter second number:  9\n"
     ]
    },
    {
     "name": "stdout",
     "output_type": "stream",
     "text": [
      "The HCF of 6 and 9 is 3\n"
     ]
    }
   ],
   "source": [
    "#write a python program to find HCF ?\n",
    "\n",
    "num1 = int(input(\"Enter first number: \"))\n",
    "num2 = int(input(\"Enter second number: \"))\n",
    "\n",
    "\n",
    "if num1 < num2:\n",
    "    smaller = num1\n",
    "else:\n",
    "    smaller = num2\n",
    "for i in range(1, smaller + 1):\n",
    "    if (num1 % i == 0) and (num2 % i == 0):\n",
    "        hcf = i\n",
    "print(\"The HCF of\", num1, \"and\", num2, \"is\", hcf)\n"
   ]
  },
  {
   "cell_type": "code",
   "execution_count": 6,
   "id": "06b76319-1b5c-4b4a-b5f5-60c9aeb17b6f",
   "metadata": {},
   "outputs": [
    {
     "name": "stdin",
     "output_type": "stream",
     "text": [
      "Enter the value of n:  5\n"
     ]
    },
    {
     "name": "stdout",
     "output_type": "stream",
     "text": [
      "The sum of cubes of first 5 natural numbers is 225\n"
     ]
    }
   ],
   "source": [
    "#cube sum for fist n natural number ?\n",
    "\n",
    "n = int(input(\"Enter the value of n: \"))\n",
    "if n > 0:\n",
    "    cube_sum = 0\n",
    "    for i in range(1, n + 1):\n",
    "        cube_sum = cube_sum + (i * i * i)\n",
    "    print(\"The sum of cubes of first\", n, \"natural numbers is\", cube_sum)\n",
    "else:\n",
    "    print(\"Please enter a positive number.\")\n"
   ]
  },
  {
   "cell_type": "code",
   "execution_count": 12,
   "id": "9ff8c315-c742-4fa1-9d79-f721ef109c8c",
   "metadata": {},
   "outputs": [
    {
     "name": "stdin",
     "output_type": "stream",
     "text": [
      "How many 15\n"
     ]
    },
    {
     "name": "stdout",
     "output_type": "stream",
     "text": [
      "3375\n"
     ]
    }
   ],
   "source": [
    "count = int(input(\"How many\"))\n",
    "sum = 0 \n",
    "for i in range(1, count+1):\n",
    "    sum = i**3\n",
    "\n",
    "print(sum)"
   ]
  },
  {
   "cell_type": "markdown",
   "id": "927fe81e-b6e9-47a7-b0df-498410bf6532",
   "metadata": {},
   "source": [
    "now do basic questions on hackerrank"
   ]
  },
  {
   "cell_type": "code",
   "execution_count": null,
   "id": "7aee697e-c0f8-45df-baa7-5c1051677979",
   "metadata": {},
   "outputs": [],
   "source": []
  }
 ],
 "metadata": {
  "kernelspec": {
   "display_name": "Python [conda env:base] *",
   "language": "python",
   "name": "conda-base-py"
  },
  "language_info": {
   "codemirror_mode": {
    "name": "ipython",
    "version": 3
   },
   "file_extension": ".py",
   "mimetype": "text/x-python",
   "name": "python",
   "nbconvert_exporter": "python",
   "pygments_lexer": "ipython3",
   "version": "3.12.7"
  }
 },
 "nbformat": 4,
 "nbformat_minor": 5
}
