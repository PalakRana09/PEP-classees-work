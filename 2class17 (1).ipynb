{
 "cells": [
  {
   "cell_type": "code",
   "execution_count": 1,
   "id": "ed79c0f8-809c-4493-8238-e331a894fcfc",
   "metadata": {},
   "outputs": [
    {
     "data": {
      "text/plain": [
       "6"
      ]
     },
     "execution_count": 1,
     "metadata": {},
     "output_type": "execute_result"
    }
   ],
   "source": [
    "a= 'python'\n",
    "len(a)"
   ]
  },
  {
   "cell_type": "code",
   "execution_count": 2,
   "id": "bb8570af-384a-4c5e-894f-7d5f4d0d0c02",
   "metadata": {},
   "outputs": [
    {
     "name": "stdout",
     "output_type": "stream",
     "text": [
      "welc\n",
      "me to\n",
      "welcome to the second day of the python learning\n",
      " ot\n",
      "g\n",
      "learn\n",
      " emoc\n",
      "gninrael nohtyp eht fo yad dnoces eht ot emoclew\n"
     ]
    }
   ],
   "source": [
    "str = 'welcome to the second day of the python learning'\n",
    "\n",
    "print(str[0:4])\n",
    "print(str[5:10])\n",
    "print(str[:])\n",
    "print(str[7:13:2])\n",
    "print(str[-1])\n",
    "print(str[-8:-3])\n",
    "print(str[7:2:-1])\n",
    "print(str[::-1])"
   ]
  },
  {
   "cell_type": "code",
   "execution_count": 3,
   "id": "96dbe26d-008d-4750-b862-4997914b306d",
   "metadata": {},
   "outputs": [
    {
     "name": "stdin",
     "output_type": "stream",
     "text": [
      "Enter a string wertyu\n"
     ]
    },
    {
     "name": "stdout",
     "output_type": "stream",
     "text": [
      "Please try again\n"
     ]
    }
   ],
   "source": [
    "str = input(\"Enter a string\")\n",
    "if str[:] == str[:: -1]:\n",
    "    print(\"The given string is a palinder\")\n",
    "else:\n",
    "    print(\"Please try again\")"
   ]
  },
  {
   "cell_type": "code",
   "execution_count": 4,
   "id": "781aa359-32b6-47cf-83e2-0afe59abf14a",
   "metadata": {},
   "outputs": [
    {
     "name": "stdout",
     "output_type": "stream",
     "text": [
      "I AM A PYTHON PROGRAMMER\n",
      "i am a python programmer\n",
      "I Am A Python Programmer\n",
      "i am a python programmer\n",
      "I Am A pYTHON pROGrAMMER\n"
     ]
    }
   ],
   "source": [
    "str = (\"i aM a Python ProgRammer\")\n",
    "\n",
    "print(str.upper())\n",
    "print(str.lower())\n",
    "print(str.title())\n",
    "print(str.casefold())\n",
    "print(str.swapcase())"
   ]
  },
  {
   "cell_type": "code",
   "execution_count": 5,
   "id": "0a332cdb-90c1-4422-910e-9c5296b1c9bd",
   "metadata": {},
   "outputs": [
    {
     "name": "stdout",
     "output_type": "stream",
     "text": [
      "Vikas\n",
      "Sachin\n",
      "Virat\n",
      "Rohit\n",
      "['Vikas', 'Golpalkrishan']\n"
     ]
    }
   ],
   "source": [
    "s1= \"V#ikas\" \n",
    "s2= \"Sachin\"\n",
    "s3 = \"Virat\"\n",
    "s4 = \"Rohit\"\n",
    "s5 = \"Vikas Golpalkrishan\"\n",
    "\n",
    "print(s1.replace('#', ''))\n",
    "print(s2.strip())\n",
    "print(s3.lstrip())\n",
    "print(s4.rstrip())\n",
    "print(s5.split(' '))\n"
   ]
  },
  {
   "cell_type": "code",
   "execution_count": 6,
   "id": "c4a33297-227d-4316-8c32-05b438ad44c6",
   "metadata": {},
   "outputs": [
    {
     "name": "stdout",
     "output_type": "stream",
     "text": [
      "The sun was shining brightly, the birds were chirping, and the gentle breeze carried the scent of blooming flowers. Children played in the park, parents relaxed on benches, and dogs ran freely across the grass. It was a perfect day for a picnic, a walk, or simply enjoying nature's beauty.\n"
     ]
    }
   ],
   "source": [
    "str = \"The sun was shining brightly, the birds were chirping, and the gentle breeze carried the scent of blooming flowers. Children played in the park, parents relaxed on benches, and dogs ran freely across the grass. It was a perfect day for a picnic, a walk, or simply enjoying nature's beauty.\"\n",
    "print(str)"
   ]
  },
  {
   "cell_type": "code",
   "execution_count": 7,
   "id": "b75b7577-8b81-4ffb-a732-9793c807c557",
   "metadata": {},
   "outputs": [
    {
     "name": "stdout",
     "output_type": "stream",
     "text": [
      "the sun was shining brightly, the birds were chirping, and the gentle breeze carried the scent of blooming flowers. children played in the park, parents relaxed on benches, and dogs ran freely across the grass. it was a perfect day for a picnic, a walk, or simply enjoying nature's beauty.\n"
     ]
    }
   ],
   "source": [
    "print(str.lower())"
   ]
  },
  {
   "cell_type": "code",
   "execution_count": 8,
   "id": "ff12783f-00ea-402f-a5fa-6622550da4bc",
   "metadata": {},
   "outputs": [
    {
     "name": "stdout",
     "output_type": "stream",
     "text": [
      "THE SUN WAS SHINING BRIGHTLY, THE BIRDS WERE CHIRPING, AND THE GENTLE BREEZE CARRIED THE SCENT OF BLOOMING FLOWERS. CHILDREN PLAYED IN THE PARK, PARENTS RELAXED ON BENCHES, AND DOGS RAN FREELY ACROSS THE GRASS. IT WAS A PERFECT DAY FOR A PICNIC, A WALK, OR SIMPLY ENJOYING NATURE'S BEAUTY.\n"
     ]
    }
   ],
   "source": [
    "print(str.upper())"
   ]
  },
  {
   "cell_type": "code",
   "execution_count": 9,
   "id": "00fa8792-127c-4755-a7b1-1dfaa4e8a179",
   "metadata": {},
   "outputs": [
    {
     "name": "stdout",
     "output_type": "stream",
     "text": [
      "Vikas python Programming\n"
     ]
    }
   ],
   "source": [
    "print(\"Vikas\", \"python\", \"Programming\")"
   ]
  },
  {
   "cell_type": "code",
   "execution_count": 10,
   "id": "004323c5-a11c-403f-8510-5b20d815c32a",
   "metadata": {},
   "outputs": [
    {
     "name": "stdout",
     "output_type": "stream",
     "text": [
      "The LPU's Classroom\n"
     ]
    }
   ],
   "source": [
    "print(\"The LPU's Classroom\")"
   ]
  },
  {
   "cell_type": "code",
   "execution_count": 11,
   "id": "b35117ef-440c-43b1-936d-ef793d5f2056",
   "metadata": {},
   "outputs": [
    {
     "name": "stdout",
     "output_type": "stream",
     "text": [
      "The sales value for the month of september is 20000\n"
     ]
    }
   ],
   "source": [
    "sales = 20000\n",
    "month = \"september\"\n",
    "print(f'The sales value for the month of {month} is {sales}')"
   ]
  },
  {
   "cell_type": "code",
   "execution_count": 12,
   "id": "0270cce1-3e44-4b54-9f3d-f25556dc59f1",
   "metadata": {},
   "outputs": [
    {
     "data": {
      "text/plain": [
       "'G:/LPU'"
      ]
     },
     "execution_count": 12,
     "metadata": {},
     "output_type": "execute_result"
    }
   ],
   "source": [
    "dir = \"G\"\n",
    "subdir = \"LPU\"\n",
    "f'{dir}:/{subdir}'"
   ]
  },
  {
   "cell_type": "code",
   "execution_count": 13,
   "id": "2e5f49b5-821d-4465-b5d4-afe4b7c20bb6",
   "metadata": {},
   "outputs": [
    {
     "name": "stdout",
     "output_type": "stream",
     "text": [
      "0\n",
      "1\n",
      "2\n",
      "3\n",
      "4\n"
     ]
    }
   ],
   "source": [
    "x = 0\n",
    "while(x<10):\n",
    "    print(x)\n",
    "    x = x+1\n",
    "    if(x == 5):\n",
    "        break"
   ]
  },
  {
   "cell_type": "code",
   "execution_count": 14,
   "id": "db17aed0-7101-4eeb-8dbe-987845ca6543",
   "metadata": {},
   "outputs": [
    {
     "name": "stdout",
     "output_type": "stream",
     "text": [
      "1\n",
      "2\n",
      "3\n",
      "4\n",
      "5\n",
      "6\n",
      "7\n",
      "8\n",
      "9\n",
      "10\n",
      "11\n",
      "12\n",
      "13\n",
      "14\n",
      "16\n",
      "17\n",
      "18\n",
      "19\n",
      "20\n",
      "21\n",
      "22\n",
      "23\n",
      "24\n",
      "25\n",
      "26\n",
      "27\n",
      "28\n",
      "29\n"
     ]
    }
   ],
   "source": [
    "x = 0\n",
    "while x < 100:\n",
    "    x += 1  \n",
    "    if x == 15:\n",
    "        continue  \n",
    "    if x == 30:\n",
    "        break    \n",
    "    print(x)"
   ]
  },
  {
   "cell_type": "code",
   "execution_count": 16,
   "id": "a7b3296d-854f-4d87-b968-fd80cd16f8c2",
   "metadata": {},
   "outputs": [
    {
     "name": "stdout",
     "output_type": "stream",
     "text": [
      "something else\n"
     ]
    }
   ],
   "source": [
    "x = 30\n",
    "if(x<20):\n",
    "    print(\"something\")\n",
    "else:\n",
    "    print(\"something else\")"
   ]
  },
  {
   "cell_type": "code",
   "execution_count": 36,
   "id": "55c04a49-0e61-4686-9e20-9f1478d7069e",
   "metadata": {},
   "outputs": [
    {
     "name": "stdin",
     "output_type": "stream",
     "text": [
      "Enter your marks:  68\n"
     ]
    },
    {
     "name": "stdout",
     "output_type": "stream",
     "text": [
      "Grade B\n"
     ]
    }
   ],
   "source": [
    "marks = int(input(\"Enter your marks: \"))\n",
    "\n",
    "if marks <= 100 and marks > 80:\n",
    "    print(\"Grade A\")\n",
    "elif marks <= 80 and marks >= 60:\n",
    "    print(\"Grade B\")\n",
    "elif marks < 60 and marks >= 40:\n",
    "    print(\"Grade C\")\n",
    "else:\n",
    "    print(\"Fail\")\n"
   ]
  },
  {
   "cell_type": "code",
   "execution_count": 40,
   "id": "8816a983-c386-46dd-b7d5-4af6c9bb9bf2",
   "metadata": {},
   "outputs": [
    {
     "name": "stdin",
     "output_type": "stream",
     "text": [
      "Enter a number:  1234567\n"
     ]
    },
    {
     "name": "stdout",
     "output_type": "stream",
     "text": [
      "1234567 is not a prime number\n"
     ]
    }
   ],
   "source": [
    "#write a python program to check a prime number \n",
    "\n",
    "\n",
    "num = int(input(\"Enter a number: \"))\n",
    "\n",
    "if num <= 1:\n",
    "    print(num, \"is not a prime number\")\n",
    "else:\n",
    "    is_prime = True\n",
    "    for i in range(2, int(num ** 0.5) + 1):\n",
    "        if num % i == 0:\n",
    "            is_prime = False\n",
    "            break\n",
    "    if is_prime:\n",
    "        print(num, \"is a prime number\")\n",
    "    else:\n",
    "        print(num, \"is not a prime number\")\n",
    "\n"
   ]
  },
  {
   "cell_type": "code",
   "execution_count": 42,
   "id": "78bca848-d91d-4d99-8db8-0117e03f8c5d",
   "metadata": {},
   "outputs": [
    {
     "name": "stdin",
     "output_type": "stream",
     "text": [
      "Enter a number:  3456789\n"
     ]
    },
    {
     "name": "stdout",
     "output_type": "stream",
     "text": [
      "Not Prime\n"
     ]
    }
   ],
   "source": [
    "num = int(input(\"Enter a number: \"))\n",
    "for i in range(2, int(num**0.5) + 1):\n",
    "    if num % i == 0:\n",
    "        print(\"Not Prime\")\n",
    "        break\n",
    "else:\n",
    "    if num > 1:\n",
    "        print(\"Prime\")\n",
    "    else:\n",
    "        print(\"Not Prime\")\n"
   ]
  },
  {
   "cell_type": "code",
   "execution_count": 55,
   "id": "c24e1031-a087-4779-852c-71a9f866939e",
   "metadata": {},
   "outputs": [
    {
     "name": "stdout",
     "output_type": "stream",
     "text": [
      "🔒 Welcome to the Pattern Lock Puzzle!\n",
      "Guess the 3-digit code one digit at a time (digits from 1 to 9).\n",
      "You have only 10 total attempts. Let's begin!\n",
      "\n"
     ]
    },
    {
     "name": "stdin",
     "output_type": "stream",
     "text": [
      "Attempt 1: Guess digit #1:  2\n"
     ]
    },
    {
     "name": "stdout",
     "output_type": "stream",
     "text": [
      "✅ Correct!\n"
     ]
    },
    {
     "name": "stdin",
     "output_type": "stream",
     "text": [
      "Attempt 2: Guess digit #2:  3\n"
     ]
    },
    {
     "name": "stdout",
     "output_type": "stream",
     "text": [
      "🔼 Too low!\n"
     ]
    },
    {
     "name": "stdin",
     "output_type": "stream",
     "text": [
      "Attempt 3: Guess digit #2:  4\n"
     ]
    },
    {
     "name": "stdout",
     "output_type": "stream",
     "text": [
      "🔼 Too low!\n"
     ]
    },
    {
     "name": "stdin",
     "output_type": "stream",
     "text": [
      "Attempt 4: Guess digit #2:  5\n"
     ]
    },
    {
     "name": "stdout",
     "output_type": "stream",
     "text": [
      "✅ Correct!\n"
     ]
    },
    {
     "name": "stdin",
     "output_type": "stream",
     "text": [
      "Attempt 5: Guess digit #3:  6\n"
     ]
    },
    {
     "name": "stdout",
     "output_type": "stream",
     "text": [
      "🔼 Too low!\n"
     ]
    },
    {
     "name": "stdin",
     "output_type": "stream",
     "text": [
      "Attempt 6: Guess digit #3:  7\n"
     ]
    },
    {
     "name": "stdout",
     "output_type": "stream",
     "text": [
      "🔼 Too low!\n"
     ]
    },
    {
     "name": "stdin",
     "output_type": "stream",
     "text": [
      "Attempt 7: Guess digit #3:  8\n"
     ]
    },
    {
     "name": "stdout",
     "output_type": "stream",
     "text": [
      "✅ Correct!\n",
      "\n",
      "🎉 Vault Unlocked! You cracked the pattern.\n"
     ]
    }
   ],
   "source": [
    "##### Pattern Lock Puzzle Game (No random used)\n",
    "\n",
    "print(\"🔒 Welcome to the Pattern Lock Puzzle!\")\n",
    "print(\"Guess the 3-digit code one digit at a time (digits from 1 to 9).\")\n",
    "print(\"You have only 10 total attempts. Let's begin!\\n\")\n",
    "\n",
    "# Fixed secret pattern\n",
    "secret_code = [2, 5, 8]\n",
    "\n",
    "attempts = 10\n",
    "index = 0  # Tracks current digit position\n",
    "\n",
    "# Make sure str() works correctly\n",
    "try:\n",
    "    del str  # Remove any custom variable named 'str'\n",
    "except:\n",
    "    pass\n",
    "\n",
    "while attempts > 0 and index < 3:\n",
    "    guess = input(f\"Attempt {11- attempts}: Guess digit #{index + 1}: \")\n",
    "\n",
    "    if not guess.isdigit():\n",
    "        print(\"⚠️ Please enter a digit (1–9) only.\")\n",
    "        continue\n",
    "\n",
    "    guess = int(guess)\n",
    "    if guess < 1 or guess > 9:\n",
    "        print(\"❌ Only digits 1 to 9 allowed!\")\n",
    "        continue\n",
    "\n",
    "    if guess == secret_code[index]:\n",
    "        print(\"✅ Correct!\")\n",
    "        index += 1\n",
    "    elif guess < secret_code[index]:\n",
    "        print(\"🔼 Too low!\")\n",
    "    else:\n",
    "        print(\"🔽 Too high!\")\n",
    "\n",
    "    attempts -= 1\n",
    "\n",
    "# Final Result\n",
    "if index == 3:\n",
    "    print(\"\\n🎉 Vault Unlocked! You cracked the pattern.\")\n",
    "else:\n",
    "    print(\"\\n🔐 Access Denied! You've run out of attempts.\")\n",
    "    print(\"The correct pattern was:\", ''.join(map(str, secret_code)))\n"
   ]
  },
  {
   "cell_type": "code",
   "execution_count": null,
   "id": "4d5eb50c-e6a2-4c0b-b2ab-587a9bcba9e8",
   "metadata": {},
   "outputs": [],
   "source": []
  }
 ],
 "metadata": {
  "kernelspec": {
   "display_name": "Python [conda env:base] *",
   "language": "python",
   "name": "conda-base-py"
  },
  "language_info": {
   "codemirror_mode": {
    "name": "ipython",
    "version": 3
   },
   "file_extension": ".py",
   "mimetype": "text/x-python",
   "name": "python",
   "nbconvert_exporter": "python",
   "pygments_lexer": "ipython3",
   "version": "3.12.7"
  }
 },
 "nbformat": 4,
 "nbformat_minor": 5
}
