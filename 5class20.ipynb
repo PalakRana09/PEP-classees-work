{
 "cells": [
  {
   "cell_type": "markdown",
   "id": "49612ecb-7e0a-4af6-99df-c929aa07ec4e",
   "metadata": {},
   "source": [
    "## Functions"
   ]
  },
  {
   "cell_type": "code",
   "execution_count": 10,
   "id": "f7e3ab8b-fc1b-4c0c-a9d7-c2255019abc2",
   "metadata": {},
   "outputs": [],
   "source": [
    "def myfirstfunc(y, x=4):\n",
    "    sum = x+y\n",
    "    return sum "
   ]
  },
  {
   "cell_type": "code",
   "execution_count": 12,
   "id": "2a8aaa00-e588-45bc-96fa-bf5b3ff82de6",
   "metadata": {},
   "outputs": [
    {
     "data": {
      "text/plain": [
       "10"
      ]
     },
     "execution_count": 12,
     "metadata": {},
     "output_type": "execute_result"
    }
   ],
   "source": [
    "myfirstfunc(y=6)"
   ]
  },
  {
   "cell_type": "code",
   "execution_count": 14,
   "id": "288a49c0-52b4-4770-9786-f37a51994714",
   "metadata": {},
   "outputs": [
    {
     "name": "stdout",
     "output_type": "stream",
     "text": [
      "Disp Function\n",
      "Show Function\n"
     ]
    }
   ],
   "source": [
    "def disp():\n",
    "    def show():\n",
    "        print(\"Show Function\")\n",
    "    print(\"Disp Function\")\n",
    "    show()\n",
    "\n",
    "disp()"
   ]
  },
  {
   "cell_type": "code",
   "execution_count": 16,
   "id": "f5565c29-ee3e-4f84-9be7-06c934c897ad",
   "metadata": {},
   "outputs": [
    {
     "name": "stdout",
     "output_type": "stream",
     "text": [
      "<class 'function'>\n",
      "Disp FunctionShow Function\n"
     ]
    }
   ],
   "source": [
    "def disp(sh):\n",
    "    print(type(sh))\n",
    "    print(\"Disp Function\" +sh())\n",
    "\n",
    "def show():\n",
    "    return \"Show Function\"\n",
    "\n",
    "disp(show)"
   ]
  },
  {
   "cell_type": "code",
   "execution_count": 20,
   "id": "abf288f6-5095-4ccd-ab51-27de31191308",
   "metadata": {},
   "outputs": [
    {
     "name": "stdout",
     "output_type": "stream",
     "text": [
      "Disp Function\n",
      "<function disp.<locals>.show at 0x000001E005DD40E0>\n"
     ]
    }
   ],
   "source": [
    "def disp():\n",
    "    def show():\n",
    "        return \"Show Function\"\n",
    "    print(\"Disp Function\")\n",
    "    return show\n",
    "\n",
    "r_sh = disp()\n",
    "\n",
    "print(r_sh)"
   ]
  },
  {
   "cell_type": "code",
   "execution_count": 24,
   "id": "f2a71f95-44e0-49d7-8aea-96582a2d7067",
   "metadata": {},
   "outputs": [
    {
     "data": {
      "text/plain": [
       "9"
      ]
     },
     "execution_count": 24,
     "metadata": {},
     "output_type": "execute_result"
    }
   ],
   "source": [
    "# * is tuple variable i it \n",
    "\n",
    "def func(*num):\n",
    "    sum = num[0]+num[1]+num[2]\n",
    "    return sum \n",
    "func(2,3,4)"
   ]
  },
  {
   "cell_type": "code",
   "execution_count": 26,
   "id": "6d2a1c8f-b4fa-4461-9c7f-a042ebda8032",
   "metadata": {},
   "outputs": [
    {
     "data": {
      "text/plain": [
       "15"
      ]
     },
     "execution_count": 26,
     "metadata": {},
     "output_type": "execute_result"
    }
   ],
   "source": [
    "# ** means key values \n",
    "\n",
    "def func(**num):\n",
    "    sum = num['a']+num['b']+num['c']\n",
    "    return sum \n",
    "func(a=8,b=3,c=4)"
   ]
  },
  {
   "cell_type": "code",
   "execution_count": 28,
   "id": "c8efcf27-d654-4981-81b6-173abd984983",
   "metadata": {},
   "outputs": [
    {
     "data": {
      "text/plain": [
       "34"
      ]
     },
     "execution_count": 28,
     "metadata": {},
     "output_type": "execute_result"
    }
   ],
   "source": [
    "def func2 (*num1, **num2):\n",
    "    sum = num1[0]+num1[1]+num2['a']+num2['b']+num2['c']\n",
    "    return sum \n",
    "func2(4,7,a=6,b=8,c=9)"
   ]
  },
  {
   "cell_type": "code",
   "execution_count": 32,
   "id": "3e9e2c3c-118a-4caf-8baa-e75cbf0f35f4",
   "metadata": {},
   "outputs": [
    {
     "data": {
      "text/plain": [
       "121"
      ]
     },
     "execution_count": 32,
     "metadata": {},
     "output_type": "execute_result"
    }
   ],
   "source": [
    "def plus(x,y):\n",
    "    sum = x+y\n",
    "    return sum\n",
    "\n",
    "def func3(a,b):\n",
    "    add = plus(a,b)\n",
    "    return add \n",
    "\n",
    "func3(a=65,b=56)"
   ]
  },
  {
   "cell_type": "code",
   "execution_count": 36,
   "id": "f34ed91a-17f9-484a-b7e1-1de4672da4c5",
   "metadata": {},
   "outputs": [
    {
     "data": {
      "text/plain": [
       "(121, 9)"
      ]
     },
     "execution_count": 36,
     "metadata": {},
     "output_type": "execute_result"
    }
   ],
   "source": [
    "def minus(c,d):\n",
    "    diff = c-d\n",
    "    return diff\n",
    "\n",
    "def func3(a,b):\n",
    "    frm1 = plus(a,b), minus(a,b)\n",
    "    return frm1 \n",
    "\n",
    "func3(a=65,b=56)"
   ]
  },
  {
   "cell_type": "code",
   "execution_count": 40,
   "id": "ef4957f2-4440-4dc7-825a-8092108b7d7f",
   "metadata": {},
   "outputs": [
    {
     "name": "stdout",
     "output_type": "stream",
     "text": [
      "10\n"
     ]
    }
   ],
   "source": [
    "def fun(x):\n",
    "    sum = x + x\n",
    "    return sum\n",
    "\n",
    "x = 5  \n",
    "result = fun(x)\n",
    "print(result)"
   ]
  },
  {
   "cell_type": "code",
   "execution_count": 42,
   "id": "c5adbe56-0410-485b-989e-1ca001a2cb44",
   "metadata": {},
   "outputs": [
    {
     "name": "stdout",
     "output_type": "stream",
     "text": [
      "My Function 1\n",
      "My Function 2\n",
      "My Function 3\n"
     ]
    }
   ],
   "source": [
    "i = 0\n",
    "\n",
    "def mufun():\n",
    "    global i\n",
    "    i += 1  # Correctly increment the global variable\n",
    "    print(\"My Function\", i)\n",
    "\n",
    "# Example: Call the function multiple times\n",
    "mufun()\n",
    "mufun()\n",
    "mufun()\n"
   ]
  },
  {
   "cell_type": "code",
   "execution_count": 44,
   "id": "150e9e17-991b-4e8c-8562-f66008c9f365",
   "metadata": {},
   "outputs": [
    {
     "name": "stdout",
     "output_type": "stream",
     "text": [
      "3628800\n"
     ]
    }
   ],
   "source": [
    "# Factorial using Recursion\n",
    "def fact(n):\n",
    "    if n == 0:\n",
    "        return 1\n",
    "    return n* fact(n-1)\n",
    "\n",
    "print(fact(10))"
   ]
  },
  {
   "cell_type": "code",
   "execution_count": 50,
   "id": "2b1c44ee-518c-4920-b93e-7a56ecdbf6dc",
   "metadata": {},
   "outputs": [
    {
     "name": "stdout",
     "output_type": "stream",
     "text": [
      "5\n",
      "7\n"
     ]
    }
   ],
   "source": [
    "#Anonymous function or lambda Function \n",
    "#Example 1 single Argument \n",
    "show = lambda x : print(x)\n",
    "show(5)\n",
    "\n",
    "#Example 2 Two Arguments\n",
    "add = lambda x,y : (x+y)\n",
    "print(add(5,2))\n",
    "\n",
    "\n"
   ]
  },
  {
   "cell_type": "code",
   "execution_count": null,
   "id": "adc25769-3e50-4209-995a-b1a3be26e4ad",
   "metadata": {},
   "outputs": [],
   "source": [
    "#nested Lambda function \n",
    "#prime number \n",
    "#fabonacci\n",
    "#armstrongnum\n"
   ]
  }
 ],
 "metadata": {
  "kernelspec": {
   "display_name": "Python [conda env:base] *",
   "language": "python",
   "name": "conda-base-py"
  },
  "language_info": {
   "codemirror_mode": {
    "name": "ipython",
    "version": 3
   },
   "file_extension": ".py",
   "mimetype": "text/x-python",
   "name": "python",
   "nbconvert_exporter": "python",
   "pygments_lexer": "ipython3",
   "version": "3.12.7"
  }
 },
 "nbformat": 4,
 "nbformat_minor": 5
}
