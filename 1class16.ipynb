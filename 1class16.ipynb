{
 "cells": [
  {
   "cell_type": "code",
   "execution_count": 1,
   "id": "8efc2eba-8f8f-48f1-9625-fba49fca0a97",
   "metadata": {},
   "outputs": [
    {
     "name": "stdout",
     "output_type": "stream",
     "text": [
      "Hello world\n"
     ]
    }
   ],
   "source": [
    "print(\"Hello world\")"
   ]
  },
  {
   "cell_type": "code",
   "execution_count": 3,
   "id": "9424e729-8ee5-423a-8780-af4f270b582f",
   "metadata": {},
   "outputs": [
    {
     "name": "stdout",
     "output_type": "stream",
     "text": [
      "<class 'float'>\n"
     ]
    }
   ],
   "source": [
    "a=2.0\n",
    "print(type(a))"
   ]
  },
  {
   "cell_type": "code",
   "execution_count": 21,
   "id": "4e6549d9-fa5d-482f-8bc2-25f05c3bf28f",
   "metadata": {},
   "outputs": [
    {
     "name": "stdout",
     "output_type": "stream",
     "text": [
      "python programming\n",
      "python programming\n"
     ]
    }
   ],
   "source": [
    "x= \"python\" \n",
    "y= \"programming\" \n",
    "print(x , y)\n",
    "print(x + ' ' + y)"
   ]
  },
  {
   "cell_type": "markdown",
   "id": "62418a23-a605-48a1-a3f3-25246f103bef",
   "metadata": {},
   "source": [
    "addition == +,\n",
    "subtraction == -,\n",
    "multiplication == *,\n",
    "division == /,\n",
    "modulo == %,\n",
    "division 2 == //,\n"
   ]
  },
  {
   "cell_type": "code",
   "execution_count": 37,
   "id": "13056645-a4dc-4dd7-ac86-cc8efc2bef34",
   "metadata": {},
   "outputs": [
    {
     "name": "stdout",
     "output_type": "stream",
     "text": [
      "15\n",
      "5\n",
      "50\n",
      "2.0\n",
      "0\n",
      "2\n",
      "100000\n"
     ]
    }
   ],
   "source": [
    "a= 10\n",
    "b=5\n",
    "\n",
    "print(a  + b)\n",
    "print(a  - b)\n",
    "print(a  * b)\n",
    "print(a  / b)\n",
    "print(a  % b)\n",
    "print(a  // b)\n",
    "print(a **  b)"
   ]
  },
  {
   "cell_type": "code",
   "execution_count": 41,
   "id": "11582a79-a2ca-4667-a6cf-d62ef876e466",
   "metadata": {},
   "outputs": [
    {
     "name": "stdout",
     "output_type": "stream",
     "text": [
      "8\n"
     ]
    }
   ],
   "source": [
    "X= 3\n",
    "x= 5\n",
    "\n",
    "print(X + x)"
   ]
  },
  {
   "cell_type": "markdown",
   "id": "7e9a4fa8-7238-4ad9-99d9-6cb953a5ff46",
   "metadata": {},
   "source": [
    "python is case sensitive language \n",
    "\n",
    "Comparison operater \n",
    "a == b ,\n",
    "a > b ,\n",
    "a < b  ,\n",
    "a >= b ,\n",
    "a <= b ,\n",
    "a != b"
   ]
  },
  {
   "cell_type": "code",
   "execution_count": 45,
   "id": "b8343b6e-cda5-4250-916d-b62b04f42002",
   "metadata": {},
   "outputs": [
    {
     "name": "stdout",
     "output_type": "stream",
     "text": [
      "False\n",
      "True\n",
      "False\n",
      "False\n",
      "True\n",
      "True\n"
     ]
    }
   ],
   "source": [
    "a = 10\n",
    "b = 5 \n",
    "\n",
    "print (a == b)\n",
    "print (a > b)\n",
    "print (a < b)\n",
    "print (a <= b)\n",
    "print (a >= b)\n",
    "print (a != b)"
   ]
  },
  {
   "cell_type": "markdown",
   "id": "66ad3011-0a7d-4442-87b7-d4185b6d90c3",
   "metadata": {},
   "source": [
    "Logical Operater \n",
    "And ,\n",
    "Or , \n",
    "Not"
   ]
  },
  {
   "cell_type": "code",
   "execution_count": 48,
   "id": "ad7077a0-6929-4ec0-af9c-767b7c356d53",
   "metadata": {},
   "outputs": [
    {
     "name": "stdout",
     "output_type": "stream",
     "text": [
      "True\n",
      "True\n",
      "True\n"
     ]
    }
   ],
   "source": [
    "a = 10\n",
    "b = 5\n",
    "c = 4\n",
    "print ((a >= b) and (a>= c))\n",
    "print ((a >= b) or (a>= c))\n",
    "print (not (a == b))"
   ]
  },
  {
   "cell_type": "code",
   "execution_count": 54,
   "id": "dab51c42-a5d9-483b-84ca-90f97a69d2c9",
   "metadata": {},
   "outputs": [
    {
     "name": "stdin",
     "output_type": "stream",
     "text": [
      "base of the tringle 10\n",
      "height 5\n"
     ]
    },
    {
     "name": "stdout",
     "output_type": "stream",
     "text": [
      "25.0\n"
     ]
    }
   ],
   "source": [
    "# write python program to find the area of triangle.\n",
    "\n",
    "base = float(input(\"base of the tringle\"))\n",
    "height =float(input(\"height\"))\n",
    "\n",
    "area = 0.5*base*height\n",
    "print(area)"
   ]
  },
  {
   "cell_type": "code",
   "execution_count": 56,
   "id": "e2072f2d-f38b-426c-9d52-58d8f980f0af",
   "metadata": {},
   "outputs": [
    {
     "data": {
      "text/plain": [
       "int"
      ]
     },
     "execution_count": 56,
     "metadata": {},
     "output_type": "execute_result"
    }
   ],
   "source": [
    "z = \"5\"\n",
    "z = int(z)\n",
    "type(z)"
   ]
  },
  {
   "cell_type": "code",
   "execution_count": 62,
   "id": "84f98a0a-6a39-4169-bd65-6c2e02f9a043",
   "metadata": {},
   "outputs": [
    {
     "name": "stdin",
     "output_type": "stream",
     "text": [
      "num1 4\n",
      "num2 5\n"
     ]
    },
    {
     "name": "stdout",
     "output_type": "stream",
     "text": [
      "num1 = 5\n",
      "num2 = 4\n"
     ]
    }
   ],
   "source": [
    "#write a python program to swap two variables.\n",
    "a = int(input(\"num1\"))\n",
    "b = int(input(\"num2\"))\n",
    "\n",
    "c = a\n",
    "a = b\n",
    "b = c\n",
    "\n",
    "print(\"num1 =\", a)\n",
    "print(\"num2 =\", b)"
   ]
  },
  {
   "cell_type": "code",
   "execution_count": 64,
   "id": "eacb0600-5177-4b3f-8124-2954910532cd",
   "metadata": {},
   "outputs": [],
   "source": [
    "a,b   = b,a"
   ]
  },
  {
   "cell_type": "code",
   "execution_count": 66,
   "id": "d868cf26-9a74-43df-beb1-9874b7e7faf1",
   "metadata": {},
   "outputs": [
    {
     "name": "stdin",
     "output_type": "stream",
     "text": [
      "Enter length in centimeters:  23\n"
     ]
    },
    {
     "name": "stdout",
     "output_type": "stream",
     "text": [
      "Length in feet is: 0.7545932000000001\n"
     ]
    }
   ],
   "source": [
    "# write python code to convert centimeters to feet . \n",
    "\n",
    "cm = float(input(\"Enter length in centimeters: \"))\n",
    "feet = cm * 0.0328084\n",
    "print(\"Length in feet is:\", feet)\n",
    "\n",
    "# Python program to convert centimeters to feet\n",
    "##cm = float(input(\"Enter length in centimeters: \"))\n",
    "#feet = cm * 0.0328084\n",
    "\n",
    "#print(f\"{cm} cm is equal to {feet:.4f} feet\")\n"
   ]
  },
  {
   "cell_type": "code",
   "execution_count": 68,
   "id": "90e839bc-b9d2-42c9-abfe-2c1c6b7975fd",
   "metadata": {},
   "outputs": [
    {
     "name": "stdin",
     "output_type": "stream",
     "text": [
      "Enter a number:  -5\n"
     ]
    },
    {
     "name": "stdout",
     "output_type": "stream",
     "text": [
      "The number is Negative\n"
     ]
    }
   ],
   "source": [
    "# write a program to check if a number is positive , negative or Zero \n",
    "\n",
    "num = float(input(\"Enter a number: \"))\n",
    "if num > 0:\n",
    "    print(\"The number is Positive\")\n",
    "elif num < 0:\n",
    "    print(\"The number is Negative\")\n",
    "else:\n",
    "    print(\"The number is Zero\")\n"
   ]
  },
  {
   "cell_type": "code",
   "execution_count": 70,
   "id": "aea80863-7452-4417-8396-2d91ceb9e02f",
   "metadata": {},
   "outputs": [
    {
     "name": "stdout",
     "output_type": "stream",
     "text": [
      "First 20 Fibonacci numbers:\n",
      "0 1 1 2 3 5 8 13 21 34 55 89 144 233 377 610 987 1597 2584 4181 "
     ]
    }
   ],
   "source": [
    "# find the first 20 fibonacci series \n",
    "\n",
    "a, b = 0, 1\n",
    "\n",
    "print(\"First 20 Fibonacci numbers:\")\n",
    "for i in range(20):\n",
    "    print(a, end=' ')\n",
    "    a, b = b, a + b\n",
    "\n",
    "#a = 0\n",
    "#b = 1\n",
    "#print(a)\n",
    "#print(b)\n",
    "#while(c <= 20):\n",
    "    #sum = a+b\n",
    "   # print(sum)\n",
    "   # a = b\n",
    "   # b = sum\n",
    "  #  c = c+1"
   ]
  },
  {
   "cell_type": "code",
   "execution_count": 76,
   "id": "0713506e-3527-4f48-b43d-75d524dcf718",
   "metadata": {},
   "outputs": [
    {
     "name": "stdin",
     "output_type": "stream",
     "text": [
      "Enter a number:  7\n"
     ]
    },
    {
     "name": "stdout",
     "output_type": "stream",
     "text": [
      "The factorial of 7 is 5040\n"
     ]
    }
   ],
   "source": [
    "# write a python program to find the factorial of a number \n",
    "\n",
    "num = int(input(\"Enter a number: \"))\n",
    "\n",
    "if num < 0:\n",
    "    print(\"Factorial does not exist for negative numbers.\")\n",
    "elif num == 0:\n",
    "    print(\"The factorial of 0 is 1.\")\n",
    "else:\n",
    "    factorial = 1\n",
    "    for i in range(1, num + 1):\n",
    "        factorial *= i\n",
    "    print(f\"The factorial of {num} is {factorial}\")\n"
   ]
  },
  {
   "cell_type": "code",
   "execution_count": 78,
   "id": "9aeb1a19-6438-4dcf-85f6-7e56cc78adbd",
   "metadata": {},
   "outputs": [
    {
     "name": "stdin",
     "output_type": "stream",
     "text": [
      "Enter a number to display its multiplication table:  19\n"
     ]
    },
    {
     "name": "stdout",
     "output_type": "stream",
     "text": [
      "\n",
      "Multiplication Table of 19:\n",
      "19 x 1 = 19\n",
      "19 x 2 = 38\n",
      "19 x 3 = 57\n",
      "19 x 4 = 76\n",
      "19 x 5 = 95\n",
      "19 x 6 = 114\n",
      "19 x 7 = 133\n",
      "19 x 8 = 152\n",
      "19 x 9 = 171\n",
      "19 x 10 = 190\n",
      "19 x 11 = 209\n",
      "19 x 12 = 228\n",
      "19 x 13 = 247\n",
      "19 x 14 = 266\n",
      "19 x 15 = 285\n",
      "19 x 16 = 304\n",
      "19 x 17 = 323\n",
      "19 x 18 = 342\n",
      "19 x 19 = 361\n",
      "19 x 20 = 380\n"
     ]
    }
   ],
   "source": [
    "#write a python program to display the multiplication table \n",
    "\n",
    "num = int(input(\"Enter a number to display its multiplication table: \"))\n",
    "\n",
    "print(f\"\\nMultiplication Table of {num}:\")\n",
    "\n",
    "# Loop from 1 to 20\n",
    "for i in range(1, 21):\n",
    "    result = num * i\n",
    "    print(f\"{num} x {i} = {result}\")\n"
   ]
  },
  {
   "cell_type": "code",
   "execution_count": null,
   "id": "82c87cb2-2edc-4a28-9f1c-16c4ddaf7a91",
   "metadata": {},
   "outputs": [],
   "source": []
  }
 ],
 "metadata": {
  "kernelspec": {
   "display_name": "Python [conda env:base] *",
   "language": "python",
   "name": "conda-base-py"
  },
  "language_info": {
   "codemirror_mode": {
    "name": "ipython",
    "version": 3
   },
   "file_extension": ".py",
   "mimetype": "text/x-python",
   "name": "python",
   "nbconvert_exporter": "python",
   "pygments_lexer": "ipython3",
   "version": "3.12.7"
  }
 },
 "nbformat": 4,
 "nbformat_minor": 5
}
