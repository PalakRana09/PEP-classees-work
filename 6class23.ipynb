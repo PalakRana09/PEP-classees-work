{
 "cells": [
  {
   "cell_type": "code",
   "execution_count": null,
   "id": "be05b837",
   "metadata": {},
   "outputs": [],
   "source": [
    "class Mobile:\n",
    "\tdef __init__(self):\n",
    "\t\tself.model = 'RealMe X'\n",
    "\t\t\n",
    "\tdef show_model(self):\n",
    "\t\tprint(\"Model:\", self.model)\n",
    "\n",
    "# Creating Object of Class\n",
    "realme = Mobile()\n",
    "\n",
    "# Accessing Variable from outside class\n",
    "print(realme.model)\n",
    "\n",
    "# Assign Variable a new value\n",
    "realme.model='RealMe Pro2'\n",
    "\n",
    "print(realme.model)\n",
    "\n",
    "# Accessing Method from outside class\n",
    "realme.show_model()"
   ]
  },
  {
   "cell_type": "code",
   "execution_count": 4,
   "id": "b90d1308",
   "metadata": {},
   "outputs": [
    {
     "name": "stdout",
     "output_type": "stream",
     "text": [
      "Model: RealMe X and Price: 1000\n"
     ]
    }
   ],
   "source": [
    "class Mobile:\n",
    "\tdef __init__(self):\n",
    "\t\tself.model = 'RealMe X'\n",
    "\t\t\n",
    "\tdef show_model(self):\n",
    "\t\tprice = 1000\t\t\t\t# Local Varaible\n",
    "\t\tprint(\"Model:\", self.model, \"and Price:\", price)\n",
    "\n",
    "realme = Mobile()\n",
    "\n",
    "# Accessing Method from outside Class\n",
    "realme.show_model()"
   ]
  },
  {
   "cell_type": "code",
   "execution_count": 1,
   "id": "308d8a83",
   "metadata": {},
   "outputs": [
    {
     "name": "stdout",
     "output_type": "stream",
     "text": [
      "Model: Realme X and Price: 1000\n"
     ]
    }
   ],
   "source": [
    "class Mobile:\n",
    "\t# Constructor\n",
    "\tdef __init__(self, m):\n",
    "\t\tself.model = m\n",
    "\t\t\n",
    "\tdef show_model(self, p):\n",
    "\t\tprice = p\t\t\t\t# Local Varaible\n",
    "\t\tprint(\"Model:\", self.model, \"and Price:\", price)\n",
    "\n",
    "# Passing Argument to Constructor\n",
    "realme = Mobile('Realme X')\n",
    "\n",
    "# Accessing Method from outside Class\n",
    "realme.show_model(1000)"
   ]
  },
  {
   "cell_type": "code",
   "execution_count": 6,
   "metadata": {},
   "outputs": [
    {
     "name": "stdout",
     "output_type": "stream",
     "text": [
      "Model: RealMe X and Price: 1000\n",
      "1899354958368\n",
      "Model: RealMe X and Price: 1000\n",
      "1899350981040\n",
      "Model: Redmi 7s and Price: 2000\n",
      "1899355080224\n",
      "Model: Python and Price: 49\n",
      "1899356358272\n"
     ]
    }
   ],
   "source": [
    "class Mobile:\n",
    "\t# Constructor\n",
    "\tdef __init__(self, m):\n",
    "\t\tself.model = m\n",
    "\t\t\n",
    "\tdef show_model(self, p):\n",
    "\t\tprice = p\n",
    "\t\tprint(\"Model:\", self.model, \"and Price:\", price)\n",
    "\n",
    "realme = Mobile('RealMe X')\n",
    "realme.show_model(1000)\n",
    "print(id(realme))\n",
    "\n",
    "realme1 = Mobile('RealMe X')\n",
    "realme1.show_model(1000)\n",
    "print(id(realme1))\n",
    "\n",
    "redmi = Mobile('Redmi 7s')\n",
    "redmi.show_model(2000)\n",
    "print(id(redmi))\n",
    "\n",
    "geek = Mobile('Python')\n",
    "geek.show_model(49)\n",
    "print(id(geek))"
   ]
  },
  {
   "cell_type": "code",
   "execution_count": 7,
   "id": "428586b1",
   "metadata": {},
   "outputs": [
    {
     "name": "stdout",
     "output_type": "stream",
     "text": [
      "Model: RealMe X\n"
     ]
    }
   ],
   "source": [
    "class Mobile:\n",
    "\t# Constructor without parameter\n",
    "\tdef __init__(self):\n",
    "\t\tself.model = 'RealMe X'\n",
    "\t\t\n",
    "\tdef show_model(self):\n",
    "\t\tprint(\"Model:\", self.model)\n",
    "\n",
    "\n",
    "realme = Mobile()\n",
    "realme.show_model()\n"
   ]
  },
  {
   "cell_type": "code",
   "execution_count": 9,
   "metadata": {},
   "outputs": [
    {
     "name": "stdout",
     "output_type": "stream",
     "text": [
      "Model: Realme X and Price: 1000\n",
      "Volumn: 80\n"
     ]
    }
   ],
   "source": [
    "class Mobile:\n",
    "\t# Constructor\n",
    "\tdef __init__(self, m, v=80):\n",
    "\t\tself.model = m\n",
    "\t\tself.volumn = v\n",
    "\t\t\n",
    "\tdef show_model(self, p):\n",
    "\t\tprice = p\t\t\t\t# Local Varaible\n",
    "\t\tprint(\"Model:\", self.model, \"and Price:\", price)\n",
    "\t\tprint(\"Volumn:\", self.volumn)\n",
    "\n",
    "# Passing Argument to Constructor\n",
    "realme = Mobile('Realme X')\n",
    "\n",
    "# Accessing Method from outside Class\n",
    "realme.show_model(1000)"
   ]
  },
  {
   "cell_type": "code",
   "execution_count": null,
   "id": "b55a5834",
   "metadata": {},
   "outputs": [],
   "source": [
    "class Mobile:\n",
    "\t# Constructor\n",
    "\tdef __init__(self, m, v=80):\n",
    "\t\tself.model = m\n",
    "\t\tself.volumn = v\n",
    "\t\t\n",
    "\tdef show_model(self, p):\n",
    "\t\tprice = p\t\t\t\t# Local Varaible\n",
    "\t\tprint(\"Model:\", self.model, \"and Price:\", price)\n",
    "\t\tprint(\"Volumn:\", self.volumn)\n",
    "\n",
    "# Passing Argument to Constructor\n",
    "realme = Mobile('Realme X')\n",
    "\n",
    "# Accessing Method from outside Class\n",
    "realme.show_model(1000)\n",
    "print()\n",
    "\n",
    "redmi = Mobile('Redmi 7s', 50)\n",
    "redmi.show_model(2000)"
   ]
  },
  {
   "cell_type": "code",
   "execution_count": 1,
   "metadata": {},
   "outputs": [
    {
     "name": "stdout",
     "output_type": "stream",
     "text": [
      "Rahul\n",
      "\n",
      "Name: Rahul\n",
      "\n",
      "<__main__.Army.Gun object at 0x0000024909344AA0>\n",
      "AK47\n",
      "AK47\n",
      "75 Rounds\n",
      "34.3 In\n",
      "\n",
      "Gun Name: AK47\n",
      "Capacity: 75 Rounds\n",
      "Length: 34.3 In\n"
     ]
    }
   ],
   "source": [
    "class Army:\t\t\t\t\t\t\t# Outer Class\n",
    "\tdef __init__(self):\n",
    "\t\tself.name='Rahul'\n",
    "\t\tself.gn = self.Gun()\t\t# Creating Inner Class Object\n",
    "\t\t\n",
    "\tdef show(self):\n",
    "\t\tprint(\"Name:\", self.name)\n",
    "\t\t\n",
    "\tclass Gun:\t\t\t\t\t\t# Inner Class\n",
    "\t\tdef __init__ (self):\n",
    "\t\t\tself.name = 'AK47'\n",
    "\t\t\tself.capacity = '75 Rounds'\n",
    "\t\t\tself.length = '34.3 In'\n",
    "\t\t\t\n",
    "\t\tdef disp(self):\n",
    "\t\t\tprint(\"Gun Name:\", self.name)\n",
    "\t\t\tprint(\"Capacity:\", self.capacity)\n",
    "\t\t\tprint(\"Length:\", self.length)\n",
    "\n",
    "a = Army()\t\t\t\t\t\t\t# Creating Outer Class Object\n",
    "print(a.name)\n",
    "print()\n",
    "a.show()\n",
    "\n",
    "print()\n",
    "print(a.gn)\n",
    "print(a.gn.name)\n",
    "g = a.gn\n",
    "print(g.name)\n",
    "print(g.capacity)\n",
    "print(g.length)\n",
    "print()\n",
    "g.disp()"
   ]
  },
  {
   "cell_type": "code",
   "execution_count": null,
   "id": "f1975819",
   "metadata": {},
   "outputs": [
    {
     "name": "stdout",
     "output_type": "stream",
     "text": [
      "Child Class Instance Method\n",
      "Parent Class Instance Method\n",
      "Parent Class Class Method: 1000\n",
      "Parent Class Static Method: 10\n"
     ]
    }
   ],
   "source": [
    "class Father:\t\t\t\t\t# Parent Class\n",
    "\tmoney = 1000\n",
    "\t\n",
    "\tdef show(self):\n",
    "\t\tprint(\"Parent Class Instance Method\")\n",
    "\t\t\n",
    "\tdef showmoney(self):\n",
    "\t\tprint(\"Parent Class Class Method:\", self.money)\n",
    "\t\t\n",
    "\tdef stat(self):\n",
    "\t\ta = 10\n",
    "\t\tprint(\"Parent Class Static Method:\", a)\n",
    "\t\t\n",
    "class Son(Father):\t\t\t\t# Child Class\n",
    "\tdef disp(self):\n",
    "\t\tprint(\"Child Class Instance Method\")\n",
    "\n",
    "s = Son()\n",
    "s.disp()\n",
    "s.show()\n",
    "s.showmoney()\n",
    "s.stat()"
   ]
  },
  {
   "cell_type": "code",
   "execution_count": 5,
   "metadata": {},
   "outputs": [
    {
     "name": "stdout",
     "output_type": "stream",
     "text": [
      "Father Class Constructor\n",
      "Son Class Instance Method 1000\n",
      "Father Instance Variable: 1000\n",
      "Father Class Instance Method\n"
     ]
    }
   ],
   "source": [
    "# Constructor in Inheritance\n",
    "class Father:\t\t\t\t\t# Parent Class\n",
    "\tdef __init__(self):\n",
    "\t\tself.money = 1000\n",
    "\t\tprint(\"Father Class Constructor\")\n",
    "\t\t\n",
    "\tdef show(self):\n",
    "\t\tprint(\"Father Class Instance Method\")\n",
    "\t\t\n",
    "\t\t\n",
    "class Son(Father):\t\t\t\t# Child Class\n",
    "\tdef disp(self):\n",
    "\t\tprint(\"Son Class Instance Method\", self.money)\n",
    "\n",
    "s = Son()\n",
    "s.disp()\n",
    "print(\"Father Instance Variable:\", s.money)\n",
    "s.show()\n"
   ]
  },
  {
   "cell_type": "code",
   "execution_count": 6,
   "id": "3fbcbea0",
   "metadata": {},
   "outputs": [
    {
     "name": "stdout",
     "output_type": "stream",
     "text": [
      "GrandSon Class Constructor\n",
      "Father Class Method\n",
      "Son Class Method\n",
      "GrandSon Class Method\n"
     ]
    }
   ],
   "source": [
    "# Multi-level Inheritance\n",
    "class Father:\n",
    "\tdef __init__(self):\n",
    "\t\tprint(\"Father Class Constructor\")\n",
    "\tdef showF(self):\n",
    "\t\tprint(\"Father Class Method\")\n",
    "\t\t\n",
    "class Son(Father):\n",
    "\tdef __init__(self):\n",
    "\t\tprint(\"Son Class Constructor\")\n",
    "\tdef showS(self):\n",
    "\t\tprint(\"Son Class Method\")\n",
    "\t\t\n",
    "class GrandSon(Son):\n",
    "\tdef __init__(self):\n",
    "\t\tprint(\"GrandSon Class Constructor\")\n",
    "\tdef showG(self):\n",
    "\t\tprint(\"GrandSon Class Method\")\n",
    "\t\t\n",
    "g = GrandSon()\n",
    "g.showF()\n",
    "g.showS()\n",
    "g.showG()"
   ]
  },
  {
   "cell_type": "code",
   "execution_count": 7,
   "id": "0b79dbce",
   "metadata": {},
   "outputs": [
    {
     "name": "stdout",
     "output_type": "stream",
     "text": [
      "Son Class Constructor\n",
      "Father Class Method\n",
      "Mother Class Method\n",
      "Son Class Method\n"
     ]
    }
   ],
   "source": [
    "class Father:\n",
    "\tdef __init__(self):\n",
    "\t\tprint(\"Father Class Constructor\")\n",
    "\tdef showF(self):\n",
    "\t\tprint(\"Father Class Method\")\n",
    "\t\t\n",
    "class Mother:\n",
    "\tdef __init__(self):\n",
    "\t\tprint(\"Mother Class Constructor\")\n",
    "\tdef showM(self):\n",
    "\t\tprint(\"Mother Class Method\")\n",
    "\t\t\n",
    "class Son(Father, Mother):\n",
    "\tdef __init__(self):\n",
    "\t\tprint(\"Son Class Constructor\")\n",
    "\tdef showS(self):\n",
    "\t\tprint(\"Son Class Method\")\n",
    "\t\t\n",
    "\t\t\n",
    "s = Son()\n",
    "s.showF()\n",
    "s.showM()\n",
    "s.showS()\n"
   ]
  },
  {
   "cell_type": "code",
   "execution_count": 8,
   "id": "de58f8f9",
   "metadata": {},
   "outputs": [
    {
     "name": "stdout",
     "output_type": "stream",
     "text": [
      "thapak thapak thapak thapak\n",
      "tabdak tabdak tabdak tabdak\n"
     ]
    },
    {
     "ename": "AttributeError",
     "evalue": "'Cat' object has no attribute 'walk'",
     "output_type": "error",
     "traceback": [
      "\u001b[1;31m---------------------------------------------------------------------------\u001b[0m",
      "\u001b[1;31mAttributeError\u001b[0m                            Traceback (most recent call last)",
      "Cell \u001b[1;32mIn[8], line 23\u001b[0m\n\u001b[0;32m     20\u001b[0m myfunction(h)\n\u001b[0;32m     22\u001b[0m c \u001b[38;5;241m=\u001b[39m Cat()\n\u001b[1;32m---> 23\u001b[0m myfunction(c)\n",
      "Cell \u001b[1;32mIn[8], line 14\u001b[0m, in \u001b[0;36mmyfunction\u001b[1;34m(obj)\u001b[0m\n\u001b[0;32m     13\u001b[0m \u001b[38;5;28;01mdef\u001b[39;00m \u001b[38;5;21mmyfunction\u001b[39m(obj):\n\u001b[1;32m---> 14\u001b[0m \tobj\u001b[38;5;241m.\u001b[39mwalk()\n",
      "\u001b[1;31mAttributeError\u001b[0m: 'Cat' object has no attribute 'walk'"
     ]
    }
   ],
   "source": [
    "class Duck:\n",
    "\tdef walk(self):\n",
    "\t\tprint(\"thapak thapak thapak thapak\")\n",
    "\n",
    "class Horse:\n",
    "\tdef walk(self):\n",
    "\t\tprint(\"tabdak tabdak tabdak tabdak\")\n",
    "\t\t\n",
    "class Cat:\n",
    "\tdef talk(self):\n",
    "\t\tprint(\"Meow Meow\")\n",
    "\t\t\n",
    "def myfunction(obj):\n",
    "\tobj.walk()\n",
    "\t\n",
    "d = Duck()\n",
    "myfunction(d)\n",
    "\n",
    "h = Horse()\n",
    "myfunction(h)\n",
    "\n",
    "c = Cat()\n",
    "myfunction(c)"
   ]
  },
  {
   "cell_type": "code",
   "execution_count": 9,
   "id": "39c24bd3",
   "metadata": {},
   "outputs": [
    {
     "name": "stdout",
     "output_type": "stream",
     "text": [
      "thapak thapak thapak thapak\n",
      "tabdak tabdak tabdak tabdak\n",
      "Meow Meow\n"
     ]
    }
   ],
   "source": [
    "class Duck:\n",
    "\tdef walk(self):\n",
    "\t\tprint(\"thapak thapak thapak thapak\")\n",
    "\n",
    "class Horse:\n",
    "\tdef walk(self):\n",
    "\t\tprint(\"tabdak tabdak tabdak tabdak\")\n",
    "\t\t\n",
    "class Cat:\n",
    "\tdef talk(self):\n",
    "\t\tprint(\"Meow Meow\")\n",
    "\n",
    "def myfunction(obj):\n",
    "\tif hasattr(obj, 'walk'):\n",
    "\t\tobj.walk()\n",
    "\tif hasattr(obj, 'talk'):\n",
    "\t\tobj.talk()\n",
    "\n",
    "\n",
    "d = Duck()\n",
    "myfunction(d)\n",
    "h = Horse()\n",
    "myfunction(h)\n",
    "c = Cat()\n",
    "myfunction(c)"
   ]
  },
  {
   "cell_type": "code",
   "execution_count": null,
   "id": "aa9130f9",
   "metadata": {},
   "outputs": [],
   "source": []
  }
 ],
 "metadata": {
  "kernelspec": {
   "display_name": "base",
   "language": "python",
   "name": "python3"
  },
  "language_info": {
   "codemirror_mode": {
    "name": "ipython",
    "version": 3
   },
   "file_extension": ".py",
   "mimetype": "text/x-python",
   "name": "python",
   "nbconvert_exporter": "python",
   "pygments_lexer": "ipython3",
   "version": "3.12.4"
  }
 },
 "nbformat": 4,
 "nbformat_minor": 5
}
