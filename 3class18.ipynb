{
 "cells": [
  {
   "cell_type": "markdown",
   "id": "d36a1845-aec1-40a4-9a9a-31af976eda2f",
   "metadata": {},
   "source": [
    " What is an Armstrong Number?\n",
    "\n",
    "An n-digit number is an Armstrong number if the sum of its digits raised to the power n is equal to the number itself.\n",
    "For example, 153 is an Armstrong number because:\n",
    "1\n",
    "3\n",
    "+\n",
    "5\n",
    "3\n",
    "+\n",
    "3\n",
    "3\n",
    "=\n",
    "153\n",
    "1 \n",
    "3\n",
    " +5 \n",
    "3\n",
    " +3 \n",
    "3\n",
    " =153"
   ]
  },
  {
   "cell_type": "code",
   "execution_count": 2,
   "id": "aa15eb89-827c-435b-9b4d-e58e179d52dd",
   "metadata": {},
   "outputs": [
    {
     "name": "stdin",
     "output_type": "stream",
     "text": [
      "Enter start of range:  6\n",
      "Enter end of range:  9\n"
     ]
    },
    {
     "name": "stdout",
     "output_type": "stream",
     "text": [
      "\n",
      "Armstrong numbers between 6 and 9 are:\n",
      "6\n",
      "7\n",
      "8\n",
      "9\n"
     ]
    }
   ],
   "source": [
    "# Python program to find Armstrong numbers in a given range\n",
    "start = int(input(\"Enter start of range: \"))\n",
    "end = int(input(\"Enter end of range: \"))\n",
    "\n",
    "print(f\"\\nArmstrong numbers between {start} and {end} are:\")\n",
    "\n",
    "for num in range(start, end + 1):\n",
    "    num_str = str(num)\n",
    "    num_digits = len(num_str)\n",
    "    \n",
    "    sum_of_powers = sum(int(digit) ** num_digits for digit in num_str) \n",
    "    if sum_of_powers == num:\n",
    "        print(num)\n"
   ]
  },
  {
   "cell_type": "code",
   "execution_count": 3,
   "id": "d74739d3-063b-4092-bd8d-e7d6675fc031",
   "metadata": {},
   "outputs": [
    {
     "name": "stdout",
     "output_type": "stream",
     "text": [
      "370\n",
      "6688\n"
     ]
    }
   ],
   "source": [
    "for num in (range(1,10000)):\n",
    "    strnum = str(num)\n",
    "    pow = len(strnum)\n",
    "    sum = 0\n",
    "    for i in (range(len(strnum)-1)):\n",
    "        sum+= int(strnum[i])**pow\n",
    "    if(sum==num):\n",
    "        print(num)"
   ]
  },
  {
   "cell_type": "markdown",
   "id": "e3b7217c-b9c3-448a-b9c9-f68278998b2f",
   "metadata": {},
   "source": [
    "# LIST\n",
    "\n",
    "✅ What is a List in Python?\n",
    "\n",
    ":--- A list in Python is a collection of items (like numbers, strings, or even other lists) that are ordered, changeable (mutable), and allow duplicate values.\n",
    "\n",
    "📌 Key Features of Lists\n",
    "Defined using square brackets []\n",
    "\n",
    "Items are indexed starting from 0\n",
    "\n",
    "Can hold mixed data types (e.g., integers, strings, floats)\n",
    "\n",
    "Can be updated, added to, or removed from\n",
    "\n",
    "my_list = [100, 200, 300]\n",
    "Indexes:     0    1    2\n",
    "\n",
    "🧠 Why Use Lists?\n",
    "\n",
    "Lists help store and manage multiple values together. For example, if you're finding Armstrong numbers, you can collect them all in a list and use them later.\n"
   ]
  },
  {
   "cell_type": "code",
   "execution_count": 5,
   "id": "602dd3c3-8a53-433f-b0f8-d2111c69d6d6",
   "metadata": {},
   "outputs": [
    {
     "name": "stdout",
     "output_type": "stream",
     "text": [
      "10\n"
     ]
    }
   ],
   "source": [
    "list = [10, 20, 30, 40]\n",
    "print(list[0])  "
   ]
  },
  {
   "cell_type": "code",
   "execution_count": 6,
   "id": "2fd74566-ba32-4c1d-af60-2f7db7115135",
   "metadata": {},
   "outputs": [
    {
     "data": {
      "text/plain": [
       "[10, 20, 30, 40]"
      ]
     },
     "execution_count": 6,
     "metadata": {},
     "output_type": "execute_result"
    }
   ],
   "source": [
    "list"
   ]
  },
  {
   "cell_type": "code",
   "execution_count": 7,
   "id": "82db23e4-24b0-4dec-99d2-ca7080805625",
   "metadata": {},
   "outputs": [],
   "source": [
    "#functions \n",
    "list.append(50)"
   ]
  },
  {
   "cell_type": "code",
   "execution_count": 8,
   "id": "b2cc73a1-8828-4bdb-b911-b7987c4bec91",
   "metadata": {},
   "outputs": [
    {
     "data": {
      "text/plain": [
       "[10, 20, 30, 40, 50]"
      ]
     },
     "execution_count": 8,
     "metadata": {},
     "output_type": "execute_result"
    }
   ],
   "source": [
    "list"
   ]
  },
  {
   "cell_type": "code",
   "execution_count": 9,
   "id": "254b87fe-cc4d-4140-a99e-f476527a9354",
   "metadata": {},
   "outputs": [],
   "source": [
    "list.remove(50)"
   ]
  },
  {
   "cell_type": "code",
   "execution_count": 10,
   "id": "31cd608d-ce7d-4e01-b6b7-0a1e37cf0fa5",
   "metadata": {},
   "outputs": [
    {
     "data": {
      "text/plain": [
       "[10, 20, 30, 40]"
      ]
     },
     "execution_count": 10,
     "metadata": {},
     "output_type": "execute_result"
    }
   ],
   "source": [
    "list"
   ]
  },
  {
   "cell_type": "code",
   "execution_count": 11,
   "id": "1d902e03-6a08-4dac-85d0-343ad1a20af4",
   "metadata": {},
   "outputs": [
    {
     "data": {
      "text/plain": [
       "[10, 20, 30, 30, 40]"
      ]
     },
     "execution_count": 11,
     "metadata": {},
     "output_type": "execute_result"
    }
   ],
   "source": [
    "list.insert(2, 30)\n",
    "list"
   ]
  },
  {
   "cell_type": "code",
   "execution_count": 12,
   "id": "31229703-b6d1-43d8-8a8d-57bfedc24e47",
   "metadata": {},
   "outputs": [
    {
     "data": {
      "text/plain": [
       "[]"
      ]
     },
     "execution_count": 12,
     "metadata": {},
     "output_type": "execute_result"
    }
   ],
   "source": [
    "list1 = []\n",
    "list1"
   ]
  },
  {
   "cell_type": "code",
   "execution_count": 13,
   "id": "7fc34f7a-efb1-402d-83b8-dd8e7dc041dc",
   "metadata": {},
   "outputs": [
    {
     "data": {
      "text/plain": [
       "[10, 20, 30, 30, 40]"
      ]
     },
     "execution_count": 13,
     "metadata": {},
     "output_type": "execute_result"
    }
   ],
   "source": [
    "list1 = list\n",
    "list1"
   ]
  },
  {
   "cell_type": "code",
   "execution_count": 14,
   "id": "333a93a0-7da7-4d5b-a9f8-e259c027a3a8",
   "metadata": {},
   "outputs": [
    {
     "name": "stdout",
     "output_type": "stream",
     "text": [
      "[169, 441, 1156, 1024, 2916, 4225, 2025, 5776, 3136, 4225]\n"
     ]
    }
   ],
   "source": [
    "num_list = [13,21,34,32,54,65,45,76,56,65]\n",
    "\n",
    "new_list = []\n",
    "for i in num_list:\n",
    "    new_list.append(i**2)\n",
    "print(new_list)    "
   ]
  },
  {
   "cell_type": "code",
   "execution_count": 15,
   "id": "fd60c48f-4d27-407c-8e07-e4d1ec02d228",
   "metadata": {},
   "outputs": [],
   "source": [
    "#list comprehension\n",
    "\n",
    "new_list = [i**2 for i in num_list if i%2 == 0]"
   ]
  },
  {
   "cell_type": "code",
   "execution_count": 16,
   "id": "619e46d5-24e7-4756-ab1f-f9b875b6b93c",
   "metadata": {},
   "outputs": [
    {
     "data": {
      "text/plain": [
       "[1156, 1024, 2916, 5776, 3136]"
      ]
     },
     "execution_count": 16,
     "metadata": {},
     "output_type": "execute_result"
    }
   ],
   "source": [
    "new_list"
   ]
  },
  {
   "cell_type": "code",
   "execution_count": 17,
   "id": "9a82207f-d311-4086-b36e-82cf946beb7d",
   "metadata": {},
   "outputs": [
    {
     "name": "stdout",
     "output_type": "stream",
     "text": [
      "[31, 31, 40, 54, 63, 63, 67, 87]\n"
     ]
    }
   ],
   "source": [
    "list = [32,31,40,54,65,63,67,87]\n",
    "\n",
    "#write a sort function for sorting above list \n",
    "\n",
    "for i in range(len(list)-1):\n",
    "    for j in range (i+1, len(list)):\n",
    "        if list[i]>list[j]:\n",
    "            list[i],list[j] = list[j],list[j]\n",
    "\n",
    "print(list)"
   ]
  },
  {
   "cell_type": "code",
   "execution_count": 18,
   "id": "31ef1ecb-4c46-4d4b-8415-3481c5338116",
   "metadata": {},
   "outputs": [
    {
     "data": {
      "text/plain": [
       "[[1, 2, 3, 4, 5, 6],\n",
       " [7, 8, 9, 10, 11, 12],\n",
       " [13, 14, 15, 16, 17, 18],\n",
       " [19, 20, 21, 22, 23, 24],\n",
       " [25, 26, 27, 28, 29, 30]]"
      ]
     },
     "execution_count": 18,
     "metadata": {},
     "output_type": "execute_result"
    }
   ],
   "source": [
    "matrix = [\n",
    "    [1, 2, 3, 4, 5, 6],\n",
    "    [7, 8, 9, 10, 11, 12],\n",
    "    [13, 14, 15, 16, 17, 18],\n",
    "    [19, 20, 21, 22, 23, 24],\n",
    "    [25, 26, 27, 28, 29, 30]\n",
    "]\n",
    "\n",
    "matrix"
   ]
  },
  {
   "cell_type": "code",
   "execution_count": 19,
   "id": "eb76c274-39dc-4fb7-86a3-2230155a41dc",
   "metadata": {},
   "outputs": [
    {
     "data": {
      "text/plain": [
       "23"
      ]
     },
     "execution_count": 19,
     "metadata": {},
     "output_type": "execute_result"
    }
   ],
   "source": [
    "matrix[3][4]"
   ]
  },
  {
   "cell_type": "code",
   "execution_count": 20,
   "id": "8cb507b4-bda1-4d46-9537-97c9b9b1e787",
   "metadata": {},
   "outputs": [
    {
     "data": {
      "text/plain": [
       "6"
      ]
     },
     "execution_count": 20,
     "metadata": {},
     "output_type": "execute_result"
    }
   ],
   "source": [
    "matrix[0][5]"
   ]
  },
  {
   "cell_type": "code",
   "execution_count": 21,
   "id": "dacd4adc-bfb0-430e-a00b-c3edd003ce8d",
   "metadata": {},
   "outputs": [
    {
     "data": {
      "text/plain": [
       "14"
      ]
     },
     "execution_count": 21,
     "metadata": {},
     "output_type": "execute_result"
    }
   ],
   "source": [
    "matrix[2][1]"
   ]
  },
  {
   "cell_type": "code",
   "execution_count": 22,
   "id": "44763560-f2ce-4545-a41c-c76994977c96",
   "metadata": {},
   "outputs": [
    {
     "data": {
      "text/plain": [
       "10"
      ]
     },
     "execution_count": 22,
     "metadata": {},
     "output_type": "execute_result"
    }
   ],
   "source": [
    "matrix[1][3]"
   ]
  },
  {
   "cell_type": "markdown",
   "id": "d57aa436-dde9-4c18-85ce-dec8e232a4f0",
   "metadata": {},
   "source": [
    "# TUPLES"
   ]
  },
  {
   "cell_type": "markdown",
   "id": "8bb22ed5-2b62-4fe0-ae81-d073534aa0e9",
   "metadata": {},
   "source": [
    "🟣 Tuples in Python\n",
    "\n",
    "A tuple is a collection of ordered, immutable (unchangeable) elements in Python. Tuples are similar to lists, but they cannot be changed after creation.\n",
    "\n",
    "✅ 1. Creating a Tuple\n",
    "\n",
    "t1 = (1, 2, 3)\n",
    "t2 = (\"apple\", \"banana\", \"cherry\")\n",
    "t3 = (1, \"hello\", 3.14)\n",
    "➡️ You can mix data types inside a tuple.\n",
    "\n",
    "✅ 2. Tuple with One Element\n",
    "python\n",
    "Copy\n",
    "Edit\n",
    "single = (5,)   # Must include the comma!\n",
    "Without the comma, Python will treat it as a number in brackets, not a tuple.\n",
    "\n",
    "✅ 3. Accessing Tuple Elements\n",
    "t = (\"a\", \"b\", \"c\")\n",
    "print(t[0])     # Output: 'a'\n",
    "print(t[-1])    # Output: 'c'\n",
    "\n",
    "✅ 4. Tuple Slicing\n",
    "t = (1, 2, 3, 4, 5)\n",
    "print(t[1:4])    # Output: (2, 3, 4)\n",
    "\n",
    "✅ 5. Tuple is Immutable\n",
    "t = (1, 2, 3)\n",
    "# t[0] = 10   ❌ This will give an error: 'tuple' object does not support item assignment\n",
    "\n",
    "✅ 6. Tuple Methods\n",
    "Method\tDescription\n",
    "count(x)\tReturns the number of times x appears\n",
    "index(x)\tReturns the first index of x\n",
    "\n",
    "Example:\n",
    "t = (1, 2, 3, 2, 4)\n",
    "print(t.count(2))   # Output: 2\n",
    "print(t.index(3))   # Output: 2\n",
    "\n",
    "✅ 7. Looping Through Tuple\n",
    "\n",
    "t = (\"red\", \"blue\", \"green\")\n",
    "for color in t:\n",
    "    print(color)\n",
    "    \n",
    "✅ 8. Tuple Packing and Unpacking\n",
    "\n",
    "# Packing\n",
    "info = (\"Alice\", 25, \"Developer\")\n",
    "\n",
    "# Unpacking\n",
    "name, age, job = info\n",
    "print(name, age, job)\n",
    "\n",
    "✅ 9. Nested Tuples\n",
    "\n",
    "nested = ((\"a\", 1), (\"b\", 2))\n",
    "print(nested[1][0])  # Output: 'b'\n",
    "✅ 10. When to Use a Tuple\n",
    "When the data should not be changed\n",
    "\n",
    "For fixed pairs or records like coordinates, (x, y), etc.\n",
    "\n",
    "As keys in dictionaries (since tuples are hashable, lists are not)\n",
    "\n"
   ]
  },
  {
   "cell_type": "code",
   "execution_count": 25,
   "id": "ee7c3523-b6db-4267-ab2a-e4a62760cd51",
   "metadata": {},
   "outputs": [],
   "source": [
    "t1 = (1, 2, 3) \n",
    "t2 = (\"apple\", \"banana\", \"cherry\") \n",
    "t3 = (1, \"hello\", 3.14)  "
   ]
  },
  {
   "cell_type": "code",
   "execution_count": 26,
   "id": "ea0396f7-f5a1-4dab-8215-2500012d2012",
   "metadata": {},
   "outputs": [
    {
     "data": {
      "text/plain": [
       "(1, 2, 3)"
      ]
     },
     "execution_count": 26,
     "metadata": {},
     "output_type": "execute_result"
    }
   ],
   "source": [
    "t1"
   ]
  },
  {
   "cell_type": "code",
   "execution_count": 27,
   "id": "c5615b3a-0c0d-43f4-8547-8de24ecfc948",
   "metadata": {},
   "outputs": [
    {
     "data": {
      "text/plain": [
       "('apple', 'banana', 'cherry')"
      ]
     },
     "execution_count": 27,
     "metadata": {},
     "output_type": "execute_result"
    }
   ],
   "source": [
    "t2"
   ]
  },
  {
   "cell_type": "code",
   "execution_count": 28,
   "id": "2bed1ab0-96f4-49ff-922d-4c768411403b",
   "metadata": {},
   "outputs": [
    {
     "data": {
      "text/plain": [
       "(1, 'hello', 3.14)"
      ]
     },
     "execution_count": 28,
     "metadata": {},
     "output_type": "execute_result"
    }
   ],
   "source": [
    "t3"
   ]
  },
  {
   "cell_type": "markdown",
   "id": "bcb56777-497b-4f80-840a-eb2140741b80",
   "metadata": {},
   "source": [
    "# SET\n",
    "\n",
    "🟢 Sets in Python\n",
    "\n",
    "A set is an unordered collection of unique elements. Sets are useful when you want to store non-duplicate values and perform operations like union, intersection, etc.\n",
    "\n"
   ]
  },
  {
   "cell_type": "code",
   "execution_count": 30,
   "id": "22f4c6fe-7ccf-447e-a2ff-5d8bcaba9c53",
   "metadata": {},
   "outputs": [
    {
     "name": "stdout",
     "output_type": "stream",
     "text": [
      "{1, 2, 3}\n",
      "1\n",
      "2\n",
      "3\n"
     ]
    }
   ],
   "source": [
    "s = {1, 2, 3}\n",
    "print(s)\n",
    "for i in s:\n",
    "    print(i)"
   ]
  },
  {
   "cell_type": "code",
   "execution_count": 31,
   "id": "37caa5e9-a948-4f3d-b761-01d763521170",
   "metadata": {},
   "outputs": [
    {
     "name": "stdout",
     "output_type": "stream",
     "text": [
      "{1, 2, 3}\n"
     ]
    }
   ],
   "source": [
    "# Duplicates are automatically removed:\n",
    "\n",
    "s = {1, 2, 2, 3}\n",
    "print(s)"
   ]
  },
  {
   "cell_type": "code",
   "execution_count": 32,
   "id": "d0265904-6d90-4693-a214-55f22c63125e",
   "metadata": {},
   "outputs": [
    {
     "data": {
      "text/plain": [
       "set()"
      ]
     },
     "execution_count": 32,
     "metadata": {},
     "output_type": "execute_result"
    }
   ],
   "source": [
    "# Empty set \n",
    "s = set()\n",
    "s"
   ]
  },
  {
   "cell_type": "markdown",
   "id": "fe8dd5a7-7e9d-4ca3-9dc4-8c4c15cc0893",
   "metadata": {},
   "source": [
    "# Set Operations\n",
    "\n",
    "a = {1, 2, 3}\n",
    "b = {3, 4, 5}\n",
    "Operation\tCode\tOutput\n",
    "Union\t`a\tbora.union(b)`\n",
    "Intersection\ta & b or a.intersection(b)\t{3}\n",
    "Difference\ta - b or a.difference(b)\t{1, 2}\n",
    "Symmetric Difference\ta ^ b or a.symmetric_difference(b)\t{1, 2, 4, 5}"
   ]
  },
  {
   "cell_type": "code",
   "execution_count": 34,
   "id": "1603133b-dce2-4060-9b17-3bce7006e152",
   "metadata": {},
   "outputs": [
    {
     "name": "stdout",
     "output_type": "stream",
     "text": [
      "{1, 2, 3, 4, 5, 6, 7, 8, 9, 12}\n",
      "{3, 4}\n",
      "{1, 5, 6, 8, 9}\n",
      "{1, 2, 5, 6, 7, 8, 9, 12}\n"
     ]
    }
   ],
   "source": [
    "s1 = {1,3,4,5,6,8,9}\n",
    "s2 = {2,3,4,7,12}\n",
    "\n",
    "#Union of set \n",
    "print(s1.union(s2))\n",
    "\n",
    "#intersection\n",
    "print(s1.intersection(s2))\n",
    "\n",
    "#difference \n",
    "print(s1.difference(s2))\n",
    "\n",
    "#Symmetric difference \n",
    "print(s1^s2)"
   ]
  },
  {
   "cell_type": "markdown",
   "id": "a2e1f725-1660-47aa-81f7-575f1496c75a",
   "metadata": {},
   "source": [
    "# Set Methods\n",
    "Method\tDescription\n",
    "\n",
    "add(x)\tAdd element x\n",
    "update([x, y])\tAdd multiple elements\n",
    "remove(x)\tRemove x, raises error if not found\n",
    "discard(x)\tRemove x, does not raise error\n",
    "pop()\tRemoves random element\n",
    "clear()\tEmpties the set\n",
    "copy()\tReturns a shallow copy"
   ]
  },
  {
   "cell_type": "code",
   "execution_count": 36,
   "id": "5b96f1f3-8c49-428d-9e2d-802123882edb",
   "metadata": {},
   "outputs": [
    {
     "data": {
      "text/plain": [
       "{1, 3, 4, 5, 6, 8, 9, 13}"
      ]
     },
     "execution_count": 36,
     "metadata": {},
     "output_type": "execute_result"
    }
   ],
   "source": [
    "s1.add(13)\n",
    "s1"
   ]
  },
  {
   "cell_type": "code",
   "execution_count": 37,
   "id": "5cef841e-8bc1-4546-9110-897a7e49597f",
   "metadata": {},
   "outputs": [
    {
     "data": {
      "text/plain": [
       "{1, 3, 4, 5, 8, 9, 13}"
      ]
     },
     "execution_count": 37,
     "metadata": {},
     "output_type": "execute_result"
    }
   ],
   "source": [
    "s1.remove(6)\n",
    "s1"
   ]
  },
  {
   "cell_type": "code",
   "execution_count": 38,
   "id": "3412ddf9-19f1-4ba4-b6c8-8e075db166c3",
   "metadata": {},
   "outputs": [
    {
     "data": {
      "text/plain": [
       "{2, 3, 4, 7}"
      ]
     },
     "execution_count": 38,
     "metadata": {},
     "output_type": "execute_result"
    }
   ],
   "source": [
    "s2.discard(12)\n",
    "s2"
   ]
  },
  {
   "cell_type": "markdown",
   "id": "c62e9a3a-14e1-4143-bd20-ac2696661043",
   "metadata": {},
   "source": [
    "# Dictionary"
   ]
  },
  {
   "cell_type": "markdown",
   "id": "6152d107-f42e-4277-866c-61012d6e24ce",
   "metadata": {},
   "source": [
    "🟡 Dictionaries in Python\n",
    "\n",
    "A dictionary is an unordered collection of key-value pairs. Each key in a dictionary is unique, and it is used to access its corresponding value."
   ]
  },
  {
   "cell_type": "code",
   "execution_count": 41,
   "id": "d6aa0774-6941-4c10-ace3-c1bc5a559aef",
   "metadata": {},
   "outputs": [
    {
     "name": "stdout",
     "output_type": "stream",
     "text": [
      "{'name': 'Alice', 'age': 21, 'course': 'Python'}\n"
     ]
    }
   ],
   "source": [
    "student = {\n",
    "    \"name\": \"Alice\",\n",
    "    \"age\": 21,\n",
    "    \"course\": \"Python\"\n",
    "}\n",
    "print(student)"
   ]
  },
  {
   "cell_type": "code",
   "execution_count": 42,
   "id": "52e7c4ac-5856-4d3d-91d9-5d65324c40ba",
   "metadata": {},
   "outputs": [
    {
     "name": "stdout",
     "output_type": "stream",
     "text": [
      "Alice\n",
      "21\n"
     ]
    }
   ],
   "source": [
    "# Accessing Values\n",
    "\n",
    "print(student[\"name\"])     # Output: Alice\n",
    "print(student.get(\"age\"))  # Output: 21"
   ]
  },
  {
   "cell_type": "code",
   "execution_count": 43,
   "id": "46a48561-f12f-40ba-9ba9-1f486d7b6076",
   "metadata": {},
   "outputs": [
    {
     "data": {
      "text/plain": [
       "{'name': 'Alice', 'age': 23, 'course': 'Python', 'grade': 'B'}"
      ]
     },
     "execution_count": 43,
     "metadata": {},
     "output_type": "execute_result"
    }
   ],
   "source": [
    "# Adding or Updating Values\n",
    "\n",
    "student[\"age\"] = 23         \n",
    "student[\"grade\"] = \"B\"\n",
    "\n",
    "student"
   ]
  },
  {
   "cell_type": "code",
   "execution_count": 44,
   "id": "28359ca7-3c06-421b-a57f-0b336992852b",
   "metadata": {},
   "outputs": [],
   "source": [
    "# Removing Elements\n",
    "\n",
    "student.pop(\"course\")      \n",
    "del student[\"age\"]      \n",
    "student.clear()"
   ]
  },
  {
   "cell_type": "markdown",
   "id": "74253e60-7349-4c5c-99d3-06d9b87ba446",
   "metadata": {},
   "source": [
    " Dictionary Methods\n",
    "\n",
    "Method\t                Description\n",
    "keys()\t               Returns all keys\n",
    "values()\t           Returns all values\n",
    "items()\t               Returns (key, value) pairs\n",
    "get(key)\t           Returns value for key\n",
    "update(dict2)\t       Merges two dictionaries\n",
    "pop(key)\t           Removes the item with the key\n",
    "clear()\t               Empties the dictionary\n",
    "\n"
   ]
  },
  {
   "cell_type": "code",
   "execution_count": 46,
   "id": "a70d5ec8-f650-44aa-a43e-124cebe19cbe",
   "metadata": {},
   "outputs": [],
   "source": [
    "empty_dict = {}\n",
    "# or\n",
    "empty_dict = dict()"
   ]
  },
  {
   "cell_type": "code",
   "execution_count": 47,
   "id": "32d65bba-de88-49b9-aa1d-2c73b79b6e80",
   "metadata": {},
   "outputs": [
    {
     "data": {
      "text/plain": [
       "{'name': 'Alice', 'age': 25, 'courses': ['Math', 'Physics']}"
      ]
     },
     "execution_count": 47,
     "metadata": {},
     "output_type": "execute_result"
    }
   ],
   "source": [
    "student = {\n",
    "    \"name\": \"Alice\",\n",
    "    \"age\": 25,\n",
    "    \"courses\": [\"Math\", \"Physics\"]\n",
    "}\n",
    "student"
   ]
  },
  {
   "cell_type": "code",
   "execution_count": 48,
   "id": "6a70d59c-598d-4e89-80fd-5ddb2bce6395",
   "metadata": {},
   "outputs": [
    {
     "name": "stdout",
     "output_type": "stream",
     "text": [
      "Alice\n"
     ]
    }
   ],
   "source": [
    "print(student[\"name\"])"
   ]
  },
  {
   "cell_type": "code",
   "execution_count": 49,
   "id": "de2233e3-bda4-410b-9e97-e7dbe897ae61",
   "metadata": {},
   "outputs": [
    {
     "name": "stdout",
     "output_type": "stream",
     "text": [
      "25\n",
      "N/A\n"
     ]
    }
   ],
   "source": [
    "print(student.get(\"age\"))  # Output: 25\n",
    "print(student.get(\"grade\", \"N/A\"))  # Returns \"N/A\" if key doesn't exist"
   ]
  },
  {
   "cell_type": "code",
   "execution_count": 50,
   "id": "8806bba2-deed-436c-96a2-080ea6d775c2",
   "metadata": {},
   "outputs": [
    {
     "name": "stdout",
     "output_type": "stream",
     "text": [
      "dict_keys(['name', 'age', 'courses'])\n",
      "dict_values(['Alice', 25, ['Math', 'Physics']])\n",
      "dict_items([('name', 'Alice'), ('age', 25), ('courses', ['Math', 'Physics'])])\n"
     ]
    }
   ],
   "source": [
    "print(student.keys())    \n",
    "print(student.values())  \n",
    "print(student.items())"
   ]
  },
  {
   "cell_type": "code",
   "execution_count": 51,
   "id": "94ecdad8-9bfe-436b-b42a-0c474f60f452",
   "metadata": {},
   "outputs": [
    {
     "name": "stdout",
     "output_type": "stream",
     "text": [
      "['abc', 'bcd', 'cde', 'def', 'efg', 'fgh', 'ghi', 'hij', 'ijk', 'jkl', 'klm', 'lmn', 'mno', 'nop', 'opq', 'pqr', 'qrs', 'rst', 'stu', 'tuv', 'uvw', 'vwx', 'wxy', 'xyz']\n"
     ]
    }
   ],
   "source": [
    "# str = \"abcdefghijklmnopqrstuvwxyz\"\n",
    "# output should be in the form of:- list['abc','bcd','cde','def'........]\n",
    "str = \"abcdefghijklmnopqrstuvwxyz\"\n",
    "result = [str[i:i+3] for i in range(len(str)-2)]\n",
    "print(result)"
   ]
  },
  {
   "cell_type": "code",
   "execution_count": 52,
   "id": "fd994e59-6da9-460d-8fb3-e21109f194e1",
   "metadata": {},
   "outputs": [],
   "source": [
    "# write a pythin program to find LCM ?\n",
    "#cube sum for fist n natural number ?\n",
    "#write a python program to find HCF ?"
   ]
  }
 ],
 "metadata": {
  "kernelspec": {
   "display_name": "Python [conda env:base] *",
   "language": "python",
   "name": "conda-base-py"
  },
  "language_info": {
   "codemirror_mode": {
    "name": "ipython",
    "version": 3
   },
   "file_extension": ".py",
   "mimetype": "text/x-python",
   "name": "python",
   "nbconvert_exporter": "python",
   "pygments_lexer": "ipython3",
   "version": "3.12.7"
  }
 },
 "nbformat": 4,
 "nbformat_minor": 5
}
